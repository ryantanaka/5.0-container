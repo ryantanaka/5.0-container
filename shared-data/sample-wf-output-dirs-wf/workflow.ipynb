{
 "cells": [
  {
   "cell_type": "code",
   "execution_count": null,
   "metadata": {},
   "outputs": [
    {
     "name": "stderr",
     "output_type": "stream",
     "text": [
      "\n",
      "################\n",
      "# pegasus-plan #\n",
      "################\n",
      "[main] WARN  schema.JsonMetaSchema  - Unknown keyword $defs - you should define your own Meta Schema. If the keyword is irrelevant for validation, just use a NonValidationKeyword\n",
      "[main] WARN  schema.JsonMetaSchema  - Unknown keyword additionalItems - you should define your own Meta Schema. If the keyword is irrelevant for validation, just use a NonValidationKeyword\n",
      "[main] WARN  schema.JsonMetaSchema  - Unknown keyword examples - you should define your own Meta Schema. If the keyword is irrelevant for validation, just use a NonValidationKeyword\n",
      "2020.08.22 00:21:55.669 UTC:\n",
      "2020.08.22 00:21:55.675 UTC:   -----------------------------------------------------------------------\n",
      "2020.08.22 00:21:55.681 UTC:   File for submitting this DAG to HTCondor           : output-stuff-0.dag.condor.sub\n",
      "2020.08.22 00:21:55.686 UTC:   Log of DAGMan debugging messages                 : output-stuff-0.dag.dagman.out\n",
      "2020.08.22 00:21:55.692 UTC:   Log of HTCondor library output                     : output-stuff-0.dag.lib.out\n",
      "2020.08.22 00:21:55.698 UTC:   Log of HTCondor library error messages             : output-stuff-0.dag.lib.err\n",
      "2020.08.22 00:21:55.704 UTC:   Log of the life of condor_dagman itself          : output-stuff-0.dag.dagman.log\n",
      "2020.08.22 00:21:55.709 UTC:\n",
      "2020.08.22 00:21:55.715 UTC:   -no_submit given, not submitting DAG to HTCondor.  You can do this with:\n",
      "2020.08.22 00:21:55.726 UTC:   -----------------------------------------------------------------------\n",
      "2020.08.22 00:21:56.547 UTC:   Your database is compatible with Pegasus version: 5.0.0dev\n",
      "2020.08.22 00:21:57.640 UTC:   Created Pegasus database in: sqlite:////home/scitech/shared-data/sample-wf-output-dirs-wf/scitech/pegasus/output-stuff/run0003/output-stuff-0.replicas.db\n",
      "2020.08.22 00:21:57.646 UTC:   Your database is compatible with Pegasus version: 5.0.0dev\n",
      "2020.08.22 00:21:57.685 UTC:   Output replica catalog set to jdbc:sqlite:/home/scitech/shared-data/sample-wf-output-dirs-wf/scitech/pegasus/output-stuff/run0003/output-stuff-0.replicas.db\n",
      "2020.08.22 00:21:57.861 UTC:   Submitting to condor output-stuff-0.dag.condor.sub\n",
      "2020.08.22 00:21:57.888 UTC:\n",
      "2020.08.22 00:21:57.893 UTC:   Your workflow has been started and is running in the base directory:\n",
      "2020.08.22 00:21:57.901 UTC:\n",
      "2020.08.22 00:21:57.910 UTC:   /home/scitech/shared-data/sample-wf-output-dirs-wf/scitech/pegasus/output-stuff/run0003\n",
      "2020.08.22 00:21:57.918 UTC:\n",
      "2020.08.22 00:21:57.927 UTC:   *** To monitor the workflow you can run ***\n",
      "2020.08.22 00:21:57.933 UTC:\n",
      "2020.08.22 00:21:57.940 UTC:   pegasus-status -l /home/scitech/shared-data/sample-wf-output-dirs-wf/scitech/pegasus/output-stuff/run0003\n",
      "2020.08.22 00:21:57.946 UTC:\n",
      "2020.08.22 00:21:57.953 UTC:   *** To remove your workflow run ***\n",
      "2020.08.22 00:21:57.958 UTC:\n",
      "2020.08.22 00:21:57.964 UTC:   pegasus-remove /home/scitech/shared-data/sample-wf-output-dirs-wf/scitech/pegasus/output-stuff/run0003\n",
      "2020.08.22 00:21:58.077 UTC:   Time taken to execute is 3.875 seconds\n",
      "\n"
     ]
    },
    {
     "name": "stdout",
     "output_type": "stream",
     "text": [
      "[\u001b[1;32m######\u001b[0m--------------------------------------------]  12.5% ..Running (\u001b[1;32mCompleted: 1\u001b[0m, \u001b[1;33mQueued: 1\u001b[0m, \u001b[1;36mRunning: 0\u001b[0m, \u001b[1;31mFailed: 0\u001b[0m)"
     ]
    }
   ],
   "source": [
    "import logging\n",
    "\n",
    "from pathlib import Path\n",
    "\n",
    "from Pegasus.api import *\n",
    "\n",
    "logging.basicConfig(level=logging.DEBUG)\n",
    "\n",
    "# --- Properties ---------------------------------------------------------------\n",
    "props = Properties()\n",
    "props[\"pegasus.dir.storage.mapper\"] = \"Replica\"\n",
    "props[\"pegasus.dir.storage.mapper.replica\"] = \"YAML\"\n",
    "props[\"pegasus.dir.storage.mapper.replica.file\"] = \"output-rc.yml\"\n",
    "props.write() \n",
    "\n",
    "# --- Input RC -----------------------------------------------------------------\n",
    "with open(\"f0\", \"w\") as f:\n",
    "    f.write(\"sample input\")\n",
    "    \n",
    "input_rc = ReplicaCatalog()\\\n",
    "            .add_replica(\"local\", \"f0\", Path(\".\").resolve() / \"f0\")\\\n",
    "            .write()\n",
    "\n",
    "# --- Output RC ----------------------------------------------------------------\n",
    "output_rc = ReplicaCatalog()\\\n",
    "                .add_replica(\"local\", \"f1\", Path(\".\").resolve() / \"wf-output/dir1/f1\")\\\n",
    "                .add_replica(\"local\", \"f2\", Path(\".\").resolve() / \"wf-output/dir2/f2\")\\\n",
    "                .write(\"output-rc.yml\")\n",
    "\n",
    "# --- Transformations ----------------------------------------------------------\n",
    "keg = Transformation(\n",
    "            \"keg\",\n",
    "            site=\"condorpool\",\n",
    "            pfn=\"/home/scitech/pegasus/dist/pegasus-5.0.0dev/bin/pegasus-keg\",\n",
    "            is_stageable=False\n",
    "        )\n",
    "\n",
    "tc = TransformationCatalog()\\\n",
    "        .add_transformations(keg)\\\n",
    "        .write()\n",
    "\n",
    "# --- Workflow -----------------------------------------------------------------\n",
    "wf = Workflow(\"output-stuff\")\n",
    "\n",
    "f0 = File(\"f0\")\n",
    "f1 = File(\"f1\")\n",
    "f2 = File(\"f2\")\n",
    "\n",
    "job = Job(\"keg\")\\\n",
    "        .add_args(\"-i\", f0, \"-o\", f1, f2)\\\n",
    "        .add_inputs(f0)\\\n",
    "        .add_outputs(f1, f2, stage_out=True)\n",
    "\n",
    "wf.add_jobs(job)\n",
    "\n",
    "try:\n",
    "    wf.plan(submit=True).wait()\n",
    "except PegasusClientError as e:\n",
    "    print(e.output)"
   ]
  },
  {
   "cell_type": "code",
   "execution_count": null,
   "metadata": {},
   "outputs": [],
   "source": []
  }
 ],
 "metadata": {
  "kernelspec": {
   "display_name": "Python 3",
   "language": "python",
   "name": "python3"
  },
  "language_info": {
   "codemirror_mode": {
    "name": "ipython",
    "version": 3
   },
   "file_extension": ".py",
   "mimetype": "text/x-python",
   "name": "python",
   "nbconvert_exporter": "python",
   "pygments_lexer": "ipython3",
   "version": "3.6.8"
  }
 },
 "nbformat": 4,
 "nbformat_minor": 4
}
