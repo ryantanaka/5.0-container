{
 "cells": [
  {
   "cell_type": "code",
   "execution_count": 1,
   "metadata": {},
   "outputs": [
    {
     "name": "stderr",
     "output_type": "stream",
     "text": [
      "Plan:\n",
      "[main] WARN  schema.JsonMetaSchema  - Unknown keyword $defs - you should define your own Meta Schema. If the keyword is irrelevant for validation, just use a NonValidationKeyword\n",
      "[main] WARN  schema.JsonMetaSchema  - Unknown keyword additionalItems - you should define your own Meta Schema. If the keyword is irrelevant for validation, just use a NonValidationKeyword\n",
      "[main] WARN  schema.JsonMetaSchema  - Unknown keyword examples - you should define your own Meta Schema. If the keyword is irrelevant for validation, just use a NonValidationKeyword\n",
      "2020.07.07 05:35:39.901 UTC:    \n",
      "2020.07.07 05:35:39.907 UTC:   ----------------------------------------------------------------------- \n",
      "2020.07.07 05:35:39.913 UTC:   File for submitting this DAG to HTCondor           : checkpoint-wf-0.dag.condor.sub \n",
      "2020.07.07 05:35:39.919 UTC:   Log of DAGMan debugging messages                 : checkpoint-wf-0.dag.dagman.out \n",
      "2020.07.07 05:35:39.926 UTC:   Log of HTCondor library output                     : checkpoint-wf-0.dag.lib.out \n",
      "2020.07.07 05:35:39.933 UTC:   Log of HTCondor library error messages             : checkpoint-wf-0.dag.lib.err \n",
      "2020.07.07 05:35:39.940 UTC:   Log of the life of condor_dagman itself          : checkpoint-wf-0.dag.dagman.log \n",
      "2020.07.07 05:35:39.946 UTC:    \n",
      "2020.07.07 05:35:39.953 UTC:   -no_submit given, not submitting DAG to HTCondor.  You can do this with: \n",
      "2020.07.07 05:35:39.967 UTC:   ----------------------------------------------------------------------- \n",
      "2020.07.07 05:35:40.804 UTC:   Your database is compatible with Pegasus version: 5.0.0dev \n",
      "2020.07.07 05:35:41.834 UTC:   Created Pegasus database in: sqlite:////home/scitech/shared-data/sample-checkpoint-wf/scitech/pegasus/checkpoint-wf/run0016/checkpoint-wf-0.replicas.db \n",
      "2020.07.07 05:35:41.840 UTC:   Your database is compatible with Pegasus version: 5.0.0dev \n",
      "2020.07.07 05:35:41.883 UTC:   Output replica catalog set to jdbc:sqlite:/home/scitech/shared-data/sample-checkpoint-wf/scitech/pegasus/checkpoint-wf/run0016/checkpoint-wf-0.replicas.db \n",
      "2020.07.07 05:35:42.039 UTC:   Submitting to condor checkpoint-wf-0.dag.condor.sub \n",
      "2020.07.07 05:35:42.064 UTC:    \n",
      "2020.07.07 05:35:42.071 UTC:   Your workflow has been started and is running in the base directory: \n",
      "2020.07.07 05:35:42.077 UTC:    \n",
      "2020.07.07 05:35:42.083 UTC:   /home/scitech/shared-data/sample-checkpoint-wf/scitech/pegasus/checkpoint-wf/run0016 \n",
      "2020.07.07 05:35:42.089 UTC:    \n",
      "2020.07.07 05:35:42.095 UTC:   *** To monitor the workflow you can run *** \n",
      "2020.07.07 05:35:42.101 UTC:    \n",
      "2020.07.07 05:35:42.108 UTC:   pegasus-status -l /home/scitech/shared-data/sample-checkpoint-wf/scitech/pegasus/checkpoint-wf/run0016 \n",
      "2020.07.07 05:35:42.115 UTC:    \n",
      "2020.07.07 05:35:42.122 UTC:   *** To remove your workflow run *** \n",
      "2020.07.07 05:35:42.129 UTC:    \n",
      "2020.07.07 05:35:42.136 UTC:   pegasus-remove /home/scitech/shared-data/sample-checkpoint-wf/scitech/pegasus/checkpoint-wf/run0016 \n",
      "2020.07.07 05:35:43.059 UTC:   Time taken to execute is 3.889 seconds \n",
      " \n",
      "\n"
     ]
    },
    {
     "name": "stdout",
     "output_type": "stream",
     "text": [
      "[\u001b[1;32m##################################################\u001b[0m] 100.0% ..Success (\u001b[1;32mCompleted: 8\u001b[0m, \u001b[1;33mQueued: 0\u001b[0m, \u001b[1;36mRunning: 0\u001b[0m, \u001b[1;31mFailed: 0\u001b[0m)\n"
     ]
    },
    {
     "name": "stderr",
     "output_type": "stream",
     "text": [
      "Analyzer:\n",
      "Your database is compatible with Pegasus version: 5.0.0dev\n",
      "\n",
      "************************************Summary*************************************\n",
      "\n",
      " Submit Directory   : /home/scitech/shared-data/sample-checkpoint-wf/scitech/pegasus/checkpoint-wf/run0016\n",
      " Total jobs         :      8 (100.00%)\n",
      " # jobs succeeded   :      8 (100.00%)\n",
      " # jobs failed      :      0 (0.00%)\n",
      " # jobs held        :      0 (0.00%)\n",
      " # jobs unsubmitted :      0 (0.00%)\n",
      "\n",
      " \n",
      "\n"
     ]
    }
   ],
   "source": [
    "import logging\n",
    "\n",
    "from pathlib import Path\n",
    "\n",
    "from Pegasus.api import *\n",
    "\n",
    "logging.basicConfig(level=logging.DEBUG)\n",
    "\n",
    "# Properties\n",
    "props = Properties()\n",
    "props[\"pegasus.data.configuration\"] = \"nonsharedfs\"\n",
    "props[\"dagman.retry\"] = \"1\"\n",
    "props.write()\n",
    "\n",
    "# Site\n",
    "sc = SiteCatalog()\n",
    "condorpool_site = Site(\"condorpool\", arch=Arch.X86_64, os_type=OS.LINUX)\\\n",
    "                    .add_pegasus_profile(style=\"condor\")\\\n",
    "                    .add_condor_profile(universe=\"vanilla\")\\\n",
    "                    .add_pegasus_profile(auxillary_local=\"true\")\n",
    "\n",
    "staging_site = Site(\"stage\", arch=Arch.X86_64, os_type=OS.LINUX)\\\n",
    "                .add_directories(\n",
    "                    Directory(Directory.SHARED_SCRATCH, \"/tmp/\")\n",
    "                        .add_file_servers(FileServer(\"file:///tmp/\", Operation.ALL))\n",
    "                )\\\n",
    "                .add_pegasus_profile(auxillary_local=\"true\")\n",
    "\n",
    "sc.add_sites(condorpool_site, staging_site)\n",
    "sc.write()\n",
    "\n",
    "# Transformation\n",
    "exe = Transformation(\n",
    "        \"checkpoint_program.py\",\n",
    "        site=\"local\",\n",
    "        pfn=str(Path(\".\").resolve() / \"checkpoint_program.py\"),\n",
    "        is_stageable=True\n",
    "    )\n",
    "\n",
    "tc = TransformationCatalog().add_transformations(exe).write()\n",
    "\n",
    "# Workflow\n",
    "job = Job(exe)\\\n",
    "        .add_checkpoint(File(\"saved_state.txt\"), stage_out=True)\\\n",
    "        .set_stdout(\"output.txt\")\\\n",
    "        .add_profiles(Namespace.PEGASUS, key=\"checkpoint.time\", value=1)\\\n",
    "        .add_profiles(Namespace.PEGASUS, key=\"maxwalltime\", value=2)\n",
    "\n",
    "'''\n",
    "# Kickstart args (note checkpoint.time converted to seconds, but how is -K determined?)\n",
    "pegasus-kickstart  -n checkpoint_program.py -N ID0000001 -o output.txt -R condorpool  -s output.txt=output.txt -s saved_state.txt=saved_state.txt -L checkpoint-wf -T 2020-07-07T05:35:37+00:00 -k 60 -K 30 ./checkpoint_program_py\n",
    "'''\n",
    "\n",
    "wf = Workflow(\"checkpoint-wf\").add_jobs(job)\n",
    "\n",
    "try:\n",
    "    wf.plan(submit=True, sites=[\"condorpool\"], staging_sites={\"condorpool\":\"stage\"})\\\n",
    "        .wait()\\\n",
    "        .analyze()\n",
    "except PegasusClientError as e:\n",
    "    print(e.output)"
   ]
  },
  {
   "cell_type": "code",
   "execution_count": null,
   "metadata": {},
   "outputs": [],
   "source": []
  }
 ],
 "metadata": {
  "kernelspec": {
   "display_name": "Python 3",
   "language": "python",
   "name": "python3"
  },
  "language_info": {
   "codemirror_mode": {
    "name": "ipython",
    "version": 3
   },
   "file_extension": ".py",
   "mimetype": "text/x-python",
   "name": "python",
   "nbconvert_exporter": "python",
   "pygments_lexer": "ipython3",
   "version": "3.6.8"
  }
 },
 "nbformat": 4,
 "nbformat_minor": 4
}
