{
 "cells": [
  {
   "cell_type": "code",
   "execution_count": 7,
   "metadata": {},
   "outputs": [
    {
     "name": "stdout",
     "output_type": "stream",
     "text": [
      "2020.07.02 05:09:48.318 UTC: [INFO]  Planner launched in the following directory /home/scitech/shared-data/sample-checkpoint-wf \n",
      "2020.07.02 05:09:48.323 UTC: [INFO]  Planner invoked with following arguments --output-sites local --cleanup inplace -vvv --submit --dax workflow.yml  \n",
      "2020.07.02 05:09:48.325 UTC: [CONFIG]  Pegasus Properties set by the user \n",
      "2020.07.02 05:09:48.325 UTC: [CONFIG]  pegasus.home.bindir=/home/scitech/pegasus/dist/pegasus-5.0.0dev/bin \n",
      "2020.07.02 05:09:48.326 UTC: [CONFIG]  pegasus.home.schemadir=/home/scitech/pegasus/dist/pegasus-5.0.0dev/share/pegasus/schema \n",
      "2020.07.02 05:09:48.326 UTC: [CONFIG]  pegasus.home.sharedstatedir=/home/scitech/pegasus/dist/pegasus-5.0.0dev/share/pegasus \n",
      "2020.07.02 05:09:48.326 UTC: [CONFIG]  pegasus.home.sysconfdir=/home/scitech/pegasus/dist/pegasus-5.0.0dev/etc \n",
      "ERROR while logging metrics The metrics file location is not yet initialized\n",
      "2020.07.02 05:09:48.738 UTC: [DEBUG]  Exiting with non-zero exit-code 1 \n",
      "2020.07.02 05:09:48.738 UTC: [INFO] event.pegasus.planner planner.version 5.0.0dev  (0.433 seconds) - FINISHED \n",
      "\n",
      "2020.07.02 05:09:48.735 UTC: [FATAL ERROR]  java.lang.IllegalArgumentException: No enum constant edu.isi.pegasus.planner.classes.PegasusFile.LINKAGE.checkpoint\n",
      "\tat java.lang.Enum.valueOf(Enum.java:238)\n",
      "\tat edu.isi.pegasus.planner.classes.PegasusFile$LINKAGE.valueOf(PegasusFile.java:45)\n",
      "\tat edu.isi.pegasus.planner.classes.PegasusFile$JsonDeserializer.deserialize(PegasusFile.java:995)\n",
      "\tat edu.isi.pegasus.planner.classes.PegasusFile$JsonDeserializer.deserialize(PegasusFile.java:949)\n",
      "\tat com.fasterxml.jackson.databind.ObjectMapper._readValue(ObjectMapper.java:3985)\n",
      "\tat com.fasterxml.jackson.databind.ObjectMapper.readValue(ObjectMapper.java:2277)\n",
      "\tat com.fasterxml.jackson.core.JsonParser.readValueAs(JsonParser.java:1729)\n",
      "\tat edu.isi.pegasus.planner.classes.Job$JsonDeserializer.deserialize(Job.java:2347)\n",
      "\tat edu.isi.pegasus.planner.classes.Job$JsonDeserializer.deserialize(Job.java:2232)\n",
      "\tat com.fasterxml.jackson.databind.ObjectMapper._readValue(ObjectMapper.java:3985)\n",
      "\tat com.fasterxml.jackson.databind.ObjectMapper.readValue(ObjectMapper.java:2277)\n",
      "\tat com.fasterxml.jackson.core.JsonParser.readValueAs(JsonParser.java:1729)\n",
      "\tat edu.isi.pegasus.planner.parser.dax.DAXParser5$YAMLStreamingDeserializer.deserialize(DAXParser5.java:201)\n",
      "\tat edu.isi.pegasus.planner.parser.dax.DAXParser5$YAMLStreamingDeserializer.deserialize(DAXParser5.java:122)\n",
      "\tat com.fasterxml.jackson.databind.ObjectMapper._readMapAndClose(ObjectMapper.java:4014)\n",
      "\tat com.fasterxml.jackson.databind.ObjectMapper.readValue(ObjectMapper.java:3050)\n",
      "\tat edu.isi.pegasus.planner.parser.dax.DAXParser5.parse(DAXParser5.java:101)\n",
      "\tat edu.isi.pegasus.planner.client.CPlanner.parseDAX(CPlanner.java:1796)\n",
      "\tat edu.isi.pegasus.planner.client.CPlanner.executeCommand(CPlanner.java:394)\n",
      "\tat edu.isi.pegasus.planner.client.CPlanner.executeCommand(CPlanner.java:316)\n",
      "\tat edu.isi.pegasus.planner.client.CPlanner.main(CPlanner.java:203)\n",
      " \n",
      "\n"
     ]
    }
   ],
   "source": [
    "import logging\n",
    "\n",
    "from pathlib import Path\n",
    "\n",
    "from Pegasus.api import *\n",
    "\n",
    "logging.basicConfig(level=logging.DEBUG)\n",
    "\n",
    "exe = Transformation(\n",
    "        \"checkpoint_program.py\",\n",
    "        site=\"local\",\n",
    "        pfn=str(Path(\".\") / \"checkpoint_program.py\"),\n",
    "        is_stageable=True\n",
    "    )\n",
    "\n",
    "tc = TransformationCatalog().add_transformations(exe).write()\n",
    "\n",
    "job = Job(exe)\\\n",
    "        .add_checkpoint(File(\"saved_state.txt\"), stage_out=True)\\\n",
    "        .add_pegasus_profile(checkpoint_time=1, max_walltime=2)\n",
    "\n",
    "wf = Workflow(\"checkpoint-wf\").add_jobs(job)\n",
    "\n",
    "try:\n",
    "    wf.plan(submit=True).wait().analyze()\n",
    "except PegasusClientError as e:\n",
    "    print(e.output)"
   ]
  },
  {
   "cell_type": "code",
   "execution_count": null,
   "metadata": {},
   "outputs": [],
   "source": []
  }
 ],
 "metadata": {
  "kernelspec": {
   "display_name": "Python 3",
   "language": "python",
   "name": "python3"
  },
  "language_info": {
   "codemirror_mode": {
    "name": "ipython",
    "version": 3
   },
   "file_extension": ".py",
   "mimetype": "text/x-python",
   "name": "python",
   "nbconvert_exporter": "python",
   "pygments_lexer": "ipython3",
   "version": "3.6.8"
  }
 },
 "nbformat": 4,
 "nbformat_minor": 4
}
